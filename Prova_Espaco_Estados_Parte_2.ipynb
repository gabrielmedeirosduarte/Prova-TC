{
 "cells": [
  {
   "cell_type": "markdown",
   "metadata": {},
   "source": [
    "## <h2 style=\"text-align: center;\"> Teoria de Controle - Av. Espaço de Estado (Parte 2)\n",
    "## <h2 style=\"text-align: center;\"> Gabriel M. Duarte e Kleber R. da Silva Junior"
   ]
  },
  {
   "cell_type": "markdown",
   "metadata": {},
   "source": [
    "##### <h5 style=\"text-align: center;\"> Bibliotecas "
   ]
  },
  {
   "cell_type": "code",
   "execution_count": 1,
   "metadata": {},
   "outputs": [],
   "source": [
    "import numpy as np\n",
    "import sympy as sp\n",
    "import control as ct\n",
    "import matplotlib.pyplot as plt\n",
    "from IPython.display import display, HTML"
   ]
  },
  {
   "cell_type": "markdown",
   "metadata": {},
   "source": [
    "##### <h5 style=\"text-align: center;\"> Topologia"
   ]
  },
  {
   "cell_type": "code",
   "execution_count": 2,
   "metadata": {},
   "outputs": [
    {
     "data": {
      "text/html": [
       "<div style='text-align: center;'><img src='./topologia.jpeg' /></div>"
      ],
      "text/plain": [
       "<IPython.core.display.HTML object>"
      ]
     },
     "metadata": {},
     "output_type": "display_data"
    }
   ],
   "source": [
    "display(HTML(\"<div style='text-align: center;'><img src='./topologia.jpeg' /></div>\"))"
   ]
  },
  {
   "cell_type": "markdown",
   "metadata": {},
   "source": [
    "##### <h5 style=\"text-align: center;\"> Sistema"
   ]
  },
  {
   "cell_type": "code",
   "execution_count": 3,
   "metadata": {},
   "outputs": [
    {
     "data": {
      "text/latex": [
       "$$\\frac{2 s + 1}{s^3 + 3}$$"
      ],
      "text/plain": [
       "TransferFunction(array([2, 1]), array([1, 0, 0, 3]))"
      ]
     },
     "execution_count": 3,
     "metadata": {},
     "output_type": "execute_result"
    }
   ],
   "source": [
    "s = ct.tf('s')\n",
    "num_G = [0, 2, 1]\n",
    "den_G = [1, 0, 0, 3]\n",
    "G = ct.tf(num_G, den_G)\n",
    "n = len(den_G)-1\n",
    "G"
   ]
  },
  {
   "cell_type": "markdown",
   "metadata": {},
   "source": [
    "##### <h5 style=\"text-align: center;\"> Polos e zeros da malha aberta"
   ]
  },
  {
   "cell_type": "code",
   "execution_count": 4,
   "metadata": {},
   "outputs": [
    {
     "name": "stdout",
     "output_type": "stream",
     "text": [
      "Polos:  [-1.44224957+0.j          0.72112479+1.24902477j  0.72112479-1.24902477j]\n",
      "Zeros:  [-0.5+0.j]\n"
     ]
    }
   ],
   "source": [
    "print(\"Polos: \", ct.poles(G))\n",
    "print(\"Zeros: \", ct.zeros(G))"
   ]
  },
  {
   "cell_type": "markdown",
   "metadata": {},
   "source": [
    "##### <h5 style=\"text-align: center;\"> Especificações de projeto"
   ]
  },
  {
   "cell_type": "code",
   "execution_count": 5,
   "metadata": {},
   "outputs": [],
   "source": [
    "ts = 2\n",
    "MUP = 8\n",
    "\n",
    "zeta = (-np.log(MUP/100))/(np.sqrt(np.pi**2 + np.log(MUP/100)**2))\n",
    "wn = 4/(ts*zeta)\n",
    "zeta_wn = zeta*wn"
   ]
  },
  {
   "cell_type": "markdown",
   "metadata": {},
   "source": [
    "##### <h5 style=\"text-align: center;\"> Polos de malha fechada desejados"
   ]
  },
  {
   "cell_type": "code",
   "execution_count": 6,
   "metadata": {},
   "outputs": [
    {
     "name": "stdout",
     "output_type": "stream",
     "text": [
      "(-2+2.4876723480722216j)\n",
      "(-2-2.4876723480722216j)\n",
      "-0.5\n",
      "-20\n"
     ]
    }
   ],
   "source": [
    "p1 = -zeta_wn + wn*np.sqrt(1-zeta**2)*1j\n",
    "p2 = -zeta_wn - wn*np.sqrt(1-zeta**2)*1j\n",
    "p3 = -0.5\n",
    "p4 = -20\n",
    "p = [p1, p2, p3, p4]\n",
    "\n",
    "for i in range(len(p)):\n",
    "    print(p[i])"
   ]
  },
  {
   "cell_type": "markdown",
   "metadata": {},
   "source": [
    "##### <h5 style=\"text-align: center;\"> Passagem da função de transferência de malha aberta para espaço de estado"
   ]
  },
  {
   "cell_type": "code",
   "execution_count": 7,
   "metadata": {},
   "outputs": [
    {
     "name": "stdout",
     "output_type": "stream",
     "text": [
      "A: \n",
      "[[ 0.  1.  0.]\n",
      " [ 0.  0.  1.]\n",
      " [-3.  0.  0.]]\n",
      "B: \n",
      "[[0.]\n",
      " [0.]\n",
      " [1.]]\n",
      "C: \n",
      "[[1. 2. 0.]]\n",
      "D: \n",
      "[[0]]\n"
     ]
    }
   ],
   "source": [
    "ultima_linha = np.zeros((1, n))\n",
    "aux = (den_G[::-1])[:-1]\n",
    "\n",
    "for i in range(len(aux)):\n",
    "    ultima_linha[0][i] = -aux[i]\n",
    "\n",
    "A = np.block([[np.zeros((n-1, 1)), np.eye(n-1)],\n",
    "              [ultima_linha]])\n",
    "\n",
    "B = np.block([[np.zeros((n-1, 1))],\n",
    "              [1]])\n",
    "\n",
    "C = np.zeros((1, n))\n",
    "for i in range(len(aux)):\n",
    "    C[0][i] = num_G[::-1][i]\n",
    "\n",
    "D = np.block([[0]])\n",
    "\n",
    "print(\"A: \")\n",
    "print(A)\n",
    "print(\"B: \")\n",
    "print(B)\n",
    "print(\"C: \")\n",
    "print(C)\n",
    "print(\"D: \")\n",
    "print(D)"
   ]
  },
  {
   "cell_type": "markdown",
   "metadata": {},
   "source": [
    "##### <h5 style=\"text-align: center;\"> Criação do Espaço de Estado aumentado"
   ]
  },
  {
   "cell_type": "code",
   "execution_count": 8,
   "metadata": {},
   "outputs": [
    {
     "name": "stdout",
     "output_type": "stream",
     "text": [
      "Aa:\n",
      "[[ 0.  1.  0.  0.]\n",
      " [ 0.  0.  1.  0.]\n",
      " [-3.  0.  0.  0.]\n",
      " [-1. -2. -0.  0.]]\n",
      "Ba:\n",
      "[[0.]\n",
      " [0.]\n",
      " [1.]\n",
      " [0.]]\n"
     ]
    }
   ],
   "source": [
    "Aa = np.block([[A, np.zeros((n,1))],\n",
    "               [-C, 0]])\n",
    "\n",
    "Ba = np.block([[B],\n",
    "               [0]])\n",
    "\n",
    "print(\"Aa:\")\n",
    "print(Aa)\n",
    "print(\"Ba:\")\n",
    "print(Ba)"
   ]
  },
  {
   "cell_type": "markdown",
   "metadata": {},
   "source": [
    "##### <h5 style=\"text-align: center;\"> Cálculo do ganho aumentado"
   ]
  },
  {
   "cell_type": "code",
   "execution_count": 9,
   "metadata": {},
   "outputs": [
    {
     "name": "stdout",
     "output_type": "stream",
     "text": [
      "K = [ 42.09432565 102.18865129  24.5       ]\n",
      "Ka = 101.88651289999979\n"
     ]
    }
   ],
   "source": [
    "F = np.array([[-20,  0,     0,         0       ],\n",
    "              [0,   -0.5,   0,         0       ],\n",
    "              [0,    0,    -2,         2.4877  ],\n",
    "              [0,    0,    -2.4877,   -2       ]])\n",
    "\n",
    "K_ = np.array([[1, 1, 1, 1]])\n",
    "\n",
    "T = ct.lyap(Aa, -F, -Ba@K_)\n",
    "\n",
    "K_a = K_@np.linalg.inv(T)\n",
    "K = K_a[0][0:n]\n",
    "Ka = -(K_a[0][-1])\n",
    "print(\"K =\", K)\n",
    "print(\"Ka =\", Ka)"
   ]
  },
  {
   "cell_type": "markdown",
   "metadata": {},
   "source": [
    "##### <h5 style=\"text-align: center;\"> Simulação (com perturbação em t=20s)"
   ]
  },
  {
   "cell_type": "code",
   "execution_count": 10,
   "metadata": {},
   "outputs": [
    {
     "name": "stdout",
     "output_type": "stream",
     "text": [
      "Regime permanente obtido (estados):\n",
      "x1 = 1.0\n",
      "x2 = 0.0\n",
      "x3 = -0.0\n",
      "xa = 0.443\n",
      "Regime permanente calculado (estados):\n",
      "[[1.        ]\n",
      " [0.        ]\n",
      " [0.        ]\n",
      " [0.44259367]]\n",
      "Regime permanente (saída):\n",
      "y = 1.0\n"
     ]
    },
    {
     "data": {
      "image/png": "[encoded data removed]",
      "text/plain": [
       "<Figure size 1000x800 with 4 Axes>"
      ]
     },
     "metadata": {},
     "output_type": "display_data"
    }
   ],
   "source": [
    "# Tempo\n",
    "t0 = 0\n",
    "tf = 30\n",
    "Ts = 0.001\n",
    "time = np.arange(t0, tf, Ts)\n",
    "amostras = len(time)\n",
    "\n",
    "# Referência\n",
    "r1 = 0\n",
    "r2 = 1\n",
    "ref1 = np.ones(int(amostras/3))*r1\n",
    "ref2 = np.ones(int(amostras/3))*r2\n",
    "ref3 = np.ones(int(amostras/3))*r2\n",
    "ref = np.hstack((ref1, ref2, ref3))\n",
    "\n",
    "# Criação da perturbação\n",
    "w = 10\n",
    "inicio_perturbacao = 20.0\n",
    "fim_perturbacao = 20.5\n",
    "\n",
    "# Cálculo de Xeq\n",
    "Acl_a = np.block([[A-B@[K], B*Ka],\n",
    "                  [-C, 0]])\n",
    "B_a = np.block([[np.zeros((n, 1))],\n",
    "                [1]])\n",
    "X_eq = -np.linalg.inv(Acl_a)@B_a*r2\n",
    "\n",
    "# Condição inicial dos estados\n",
    "x = np.array([[0.1],\n",
    "              [-0.15],\n",
    "              [0.2]])\n",
    "\n",
    "# Condição inicial do estado do integrador\n",
    "xa = -0.1\n",
    "\n",
    "# Criação dos vetores\n",
    "x_vec = []\n",
    "xa_vec = []\n",
    "y_vec = []\n",
    "u_vec = []\n",
    "v_vec = []\n",
    "\n",
    "# Simulação\n",
    "for i in range(len(time)):\n",
    "\n",
    "    # Sinais de Controle\n",
    "    v = Ka*xa\n",
    "    if time[i]>inicio_perturbacao and time[i]<fim_perturbacao:\n",
    "        u = v - K@x + w\n",
    "    else:\n",
    "        u = v - K@x\n",
    "    # Saída\n",
    "    y = (C@x)[0][0]\n",
    "    # Derivadas dos estados do sistema\n",
    "    x_dot = A@x + B*u\n",
    "    xa_dot = ref[i] - y\n",
    "    # Atualização dos vetores\n",
    "    x_vec.append(x)\n",
    "    xa_vec.append(xa)\n",
    "    y_vec.append(y)\n",
    "    u_vec.append(u)\n",
    "    v_vec.append(v)\n",
    "    # Atualização dos estados do sistema\n",
    "    x = x + x_dot*Ts\n",
    "    # Atualização do estado do integrador\n",
    "    xa = xa + xa_dot*Ts\n",
    "\n",
    "# Separação dos estados do sistema\n",
    "x1_vec = [v[0][0] for v in x_vec]\n",
    "x2_vec = [v[1][0] for v in x_vec]\n",
    "x3_vec = [v[2][0] for v in x_vec]\n",
    "\n",
    "print(\"Regime permanente obtido (estados):\")\n",
    "print(\"x1 =\", round(x1_vec[-1], 3))\n",
    "print(\"x2 =\", round(x2_vec[-1], 3))\n",
    "print(\"x3 =\", round(x3_vec[-1], 3))\n",
    "print(\"xa =\", round(xa_vec[-1], 3))\n",
    "print(\"Regime permanente calculado (estados):\")\n",
    "print(X_eq)\n",
    "print(\"Regime permanente (saída):\")\n",
    "print(\"y =\", round(y_vec[-1], 3))\n",
    "\n",
    "# MUP\n",
    "yvec = y_vec[10000:20000]\n",
    "time_ = time[0:10000]\n",
    "MUP_real = (((np.max(yvec)-yvec[0])/(yvec[-1]-yvec[0]))*100) - 100\n",
    "\n",
    "# ts\n",
    "id_max_y = np.where(yvec==np.max(yvec))[0]\n",
    "for i in range(amostras):\n",
    "    if i > id_max_y:\n",
    "        if abs(abs(yvec[i])-abs(yvec[-1])) < 0.02:\n",
    "            ts_real = time_[i]\n",
    "            break\n",
    "\n",
    "plt.figure(figsize=(10,8))\n",
    "\n",
    "plt.subplot(4, 1, 1)\n",
    "plt.title('MUP = ' + str(round(MUP_real, 2)) + \"%, ts = \" + str(round(ts_real, 2)) + \"s\")\n",
    "plt.plot(time, x1_vec, label='$x_1$', color='blue')\n",
    "plt.plot(time, x2_vec, label='$x_2$', color='orange')\n",
    "plt.plot(time, x3_vec, label='$x_3$', color='green')\n",
    "plt.plot(time, xa_vec, label='$x_a$', color='c')\n",
    "plt.ylabel('Estados')\n",
    "plt.legend(loc='upper right')\n",
    "plt.grid()\n",
    "\n",
    "plt.subplot(4, 1, 2)\n",
    "plt.plot(time, y_vec, color='red', label='$y$')\n",
    "plt.plot(time, ref, color='black', label='$r$', linestyle='--')\n",
    "plt.ylabel('Saída')\n",
    "plt.legend(loc='upper right')\n",
    "plt.grid()\n",
    "\n",
    "plt.subplot(4, 1, 3)\n",
    "plt.plot(time, u_vec, color='black', label='$u$')\n",
    "plt.ylabel('u')\n",
    "plt.legend(loc='upper right')\n",
    "plt.grid()\n",
    "\n",
    "plt.subplot(4, 1, 4)\n",
    "plt.plot(time, v_vec, color='gray', label='$v$')\n",
    "plt.xlabel('Tempo')\n",
    "plt.ylabel('v')\n",
    "plt.legend(loc='upper right')\n",
    "plt.grid()"
   ]
  },
  {
   "cell_type": "markdown",
   "metadata": {},
   "source": [
    "##### <h5> Não foi necessário realizar ajustes, pois não há um 'zero' interferindo nos polos desejados;\n",
    "##### <h5> Um dos polos foi alocado exatamente em cima do zero da malha aberta, para se cancelarem, sendo assim não há influência do zero na resposta."
   ]
  }
 ],
 "metadata": {
  "kernelspec": {
   "display_name": "Python 3",
   "language": "python",
   "name": "python3"
  },
  "language_info": {
   "codemirror_mode": {
    "name": "ipython",
    "version": 3
   },
   "file_extension": ".py",
   "mimetype": "text/x-python",
   "name": "python",
   "nbconvert_exporter": "python",
   "pygments_lexer": "ipython3",
   "version": "3.10.11"
  }
 },
 "nbformat": 4,
 "nbformat_minor": 2
}
